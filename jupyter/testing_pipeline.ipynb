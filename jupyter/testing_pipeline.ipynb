{
 "cells": [
  {
   "cell_type": "code",
   "execution_count": 1,
   "id": "696cd2d5-8f02-4759-8876-b6cdc55c62d6",
   "metadata": {},
   "outputs": [],
   "source": [
    "import sys\n",
    "\n",
    "sys.path.append(\"../\")"
   ]
  },
  {
   "cell_type": "code",
   "execution_count": 2,
   "id": "164dc87b-99ad-4c6e-a349-d5a97f75ae17",
   "metadata": {},
   "outputs": [
    {
     "name": "stderr",
     "output_type": "stream",
     "text": [
      "/Users/kaushikdayalan/projects/storymachine_projects/dmg_mori_sentiment_analysis/.env/lib/python3.9/site-packages/tqdm/auto.py:21: TqdmWarning: IProgress not found. Please update jupyter and ipywidgets. See https://ipywidgets.readthedocs.io/en/stable/user_install.html\n",
      "  from .autonotebook import tqdm as notebook_tqdm\n"
     ]
    }
   ],
   "source": [
    "from src.data_management import DataManagment\n",
    "from src.model.sentiment_model import SentimentModel"
   ]
  },
  {
   "cell_type": "code",
   "execution_count": 3,
   "id": "3dbb4774-bb10-4a61-80a2-8115a6ec0d31",
   "metadata": {},
   "outputs": [
    {
     "name": "stdout",
     "output_type": "stream",
     "text": [
      "Created a connection to S3\n"
     ]
    },
    {
     "name": "stderr",
     "output_type": "stream",
     "text": [
      "Some weights of the model checkpoint at cardiffnlp/twitter-roberta-base-sentiment-latest were not used when initializing RobertaForSequenceClassification: ['roberta.pooler.dense.bias', 'roberta.pooler.dense.weight']\n",
      "- This IS expected if you are initializing RobertaForSequenceClassification from the checkpoint of a model trained on another task or with another architecture (e.g. initializing a BertForSequenceClassification model from a BertForPreTraining model).\n",
      "- This IS NOT expected if you are initializing RobertaForSequenceClassification from the checkpoint of a model that you expect to be exactly identical (initializing a BertForSequenceClassification model from a BertForSequenceClassification model).\n"
     ]
    }
   ],
   "source": [
    "data_manager = DataManagment()\n",
    "model = SentimentModel()"
   ]
  },
  {
   "cell_type": "code",
   "execution_count": 4,
   "id": "820bffd8-e060-49ff-81ef-8bf3edab6344",
   "metadata": {},
   "outputs": [
    {
     "name": "stdout",
     "output_type": "stream",
     "text": [
      "Succesfully read DMG_mori_facebook_mentions.csv from S3\n"
     ]
    }
   ],
   "source": [
    "folder_name = \"raw_data\"\n",
    "facebook_mentions_file_name = \"DMG_mori_facebook_mentions.csv\"\n",
    "instagram_mentions_file_name = \"DMG_mori_insta_mentions.csv\"\n",
    "\n",
    "facebook_mentions_df = data_manager.read_dataframe_from_s3(file_name=facebook_mentions_file_name,folder_name=folder_name)"
   ]
  },
  {
   "cell_type": "code",
   "execution_count": 5,
   "id": "252889ac-9c97-4eca-92de-b399f30b3d80",
   "metadata": {},
   "outputs": [
    {
     "data": {
      "text/plain": [
       "{'sentiment': 'positive', 'score': 0.946462}"
      ]
     },
     "execution_count": 5,
     "metadata": {},
     "output_type": "execute_result"
    }
   ],
   "source": [
    "model.get_sentiment_prediction(text=\"Hey I am doing good\", best_score=True)"
   ]
  },
  {
   "cell_type": "code",
   "execution_count": null,
   "id": "3ab0012a-6c31-4ccc-9591-ee699e7132a9",
   "metadata": {},
   "outputs": [],
   "source": []
  }
 ],
 "metadata": {
  "kernelspec": {
   "display_name": "Python 3 (ipykernel)",
   "language": "python",
   "name": "python3"
  },
  "language_info": {
   "codemirror_mode": {
    "name": "ipython",
    "version": 3
   },
   "file_extension": ".py",
   "mimetype": "text/x-python",
   "name": "python",
   "nbconvert_exporter": "python",
   "pygments_lexer": "ipython3",
   "version": "3.9.6"
  }
 },
 "nbformat": 4,
 "nbformat_minor": 5
}
